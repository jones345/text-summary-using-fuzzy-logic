{
 "cells": [
  {
   "cell_type": "code",
   "execution_count": 188,
   "metadata": {},
   "outputs": [],
   "source": [
    "# import all libraries\n",
    "from tkinter import *\n",
    "from tkinter import filedialog\n",
    "import os\n",
    "import numpy as np"
   ]
  },
  {
   "cell_type": "code",
   "execution_count": 189,
   "metadata": {},
   "outputs": [
    {
     "name": "stdout",
     "output_type": "stream",
     "text": [
      "File directory: C:/Users/jones_wp60lum/Downloads/test.txt\n",
      "\n",
      "\n",
      "\n",
      "Our ultimate goal is to create a robust summarization system that can handle different types of documents in a uniform way. To achieve this goal, we\n",
      "have developed a summarization system based on\n",
      "sentence extraction. We have participated in evaluation workshops on automatic summarization for\n",
      "both Japanese and English written corpora. We have\n",
      "also evaluated the performance of the sentence extraction system for Japanese lectures. At both workshops we obtained some of the top results, and for\n",
      "the speech corpus we obtained results comparable\n",
      "with those for the written corpora. This means that\n",
      "the features we use are worth analyzing.\n",
      "Sentence extraction is one of the main methods\n",
      "required for a summarization system to reduce the\n",
      "size of a document. Edmundson (1969) proposed a\n",
      "method of integrating several features, such as the\n",
      "positions of sentences and the frequencies of words\n",
      "in an article, in order to extract sentences. He manually assigned parameter values to integrate features\n",
      "for estimating the significance scores of sentences.\n",
      "On the other hand, machine learning methods can\n",
      "also be applied to integrate features. For sentence\n",
      "\n",
      "\n",
      "\n",
      "\n",
      "\n"
     ]
    }
   ],
   "source": [
    "# creating python gui to select txt file from windows explore for summarazation \n",
    "root = Tk()\n",
    "my_filetypes = [('all files', '.*'), ('text files', '.txt')]\n",
    "root.filename =  filedialog.askopenfilename(\n",
    "                                    title=\"Please select a file:\",\n",
    "                                    filetypes=my_filetypes)\n",
    "print (\"File directory:\",root.filename)\n",
    "print(\"\\n\")\n",
    "root.withdraw()\n",
    "#text=open(root.filename, encoding=\"utf-8\").read()\n",
    "text=open(root.filename).read()\n",
    "print(text)\n",
    "print(\"\\n\")"
   ]
  },
  {
   "cell_type": "code",
   "execution_count": 190,
   "metadata": {},
   "outputs": [
    {
     "name": "stdout",
     "output_type": "stream",
     "text": [
      "Sentences: ['\\nOur ultimate goal is to create a robust summarization system that can handle different types of documents in a uniform way.', 'To achieve this goal, we\\nhave developed a summarization system based on\\nsentence extraction.', 'We have participated in evaluation workshops on automatic summarization for\\nboth Japanese and English written corpora.', 'We have\\nalso evaluated the performance of the sentence extraction system for Japanese lectures.', 'At both workshops we obtained some of the top results, and for\\nthe speech corpus we obtained results comparable\\nwith those for the written corpora.', 'This means that\\nthe features we use are worth analyzing.', 'Sentence extraction is one of the main methods\\nrequired for a summarization system to reduce the\\nsize of a document.', 'Edmundson (1969) proposed a\\nmethod of integrating several features, such as the\\npositions of sentences and the frequencies of words\\nin an article, in order to extract sentences.', 'He manually assigned parameter values to integrate features\\nfor estimating the significance scores of sentences.', 'On the other hand, machine learning methods can\\nalso be applied to integrate features.', 'For sentence']\n",
      "\n",
      "\n"
     ]
    }
   ],
   "source": [
    "# dividing sentence into meaningful units\n",
    "from nltk import sent_tokenize\n",
    "sentences=(sent_tokenize(text))\n",
    "print(\"Sentences:\",sentences)\n",
    "print(\"\\n\")\n",
    "\n",
    "emptyarray= np.empty((len(sentences),1,3),dtype=object)\n",
    "for s in range(len(sentences)):\n",
    "    emptyarray[s][0][0] = sentences[s]\n",
    "    emptyarray[s][0][1] = s"
   ]
  },
  {
   "cell_type": "code",
   "execution_count": 191,
   "metadata": {},
   "outputs": [
    {
     "name": "stdout",
     "output_type": "stream",
     "text": [
      "bitokens feature vector: [12, 8, 9, 7, 11, 5, 9, 14, 9, 7, 0]\n",
      "14\n",
      "[12, 8, 9, 7, 11, 5, 9, 14, 9, 7, 0]\n",
      "\n",
      "\n"
     ]
    }
   ],
   "source": [
    "# calculating and visualizing relationships between words\n",
    "#Tokenization sentences,chopping it up into pieces throwing away certain characters, such as punctuation.\n",
    "#Bi-grams\n",
    "\n",
    "import nltk\n",
    "from string import punctuation\n",
    "from nltk.corpus import stopwords\n",
    "stop_words = set(stopwords.words('english'))\n",
    "bi_token=[]\n",
    "bi_token_length=[]\n",
    "tri_token_length=[]\n",
    "for u in range(len(sentences)):\n",
    "    sent_split1=[w.lower() for w in sentences[u].split(\" \")]\n",
    "    sent_split=[w for w in sent_split1 if w not in stop_words and w not in punctuation and not w.isdigit()]\n",
    "    \n",
    "    bigrams_list = [bigram for bigram in nltk.bigrams(sent_split)]\n",
    "    bi_token.append(bigrams_list)\n",
    "    bi_token_length.append(len(bi_token[u]))\n",
    "bi_tokens = [(int(o) / max(bi_token_length))*100 for o in bi_token_length]\n",
    "print(\"bitokens feature vector:\",(bi_token_length))\n",
    "print(max(bi_token_length))\n",
    "print(bi_token_length)\n",
    "print(\"\\n\")"
   ]
  },
  {
   "cell_type": "code",
   "execution_count": 192,
   "metadata": {},
   "outputs": [
    {
     "name": "stdout",
     "output_type": "stream",
     "text": [
      "tritokens feature vector: [11, 7, 8, 6, 10, 4, 8, 13, 8, 6, 0]\n",
      "\n",
      "\n"
     ]
    }
   ],
   "source": [
    "#Tri-grams\n",
    "tri_token=[]\n",
    "for u in range(len(sentences)):\n",
    "    sent_split2=[w.lower() for w in sentences[u].split(\" \")]\n",
    "    sent_split3=[w for w in sent_split2 if w not in stop_words and w not in punctuation and not w.isdigit()]\n",
    "    trigrams_list = [trigram for trigram in nltk.trigrams(sent_split3)]\n",
    "    tri_token.append(trigrams_list)\n",
    "    tri_token_length.append(len(tri_token[u]))\n",
    "tri_tokens = [(int(m) / max(tri_token_length))*100 for m in tri_token_length]\n",
    "\n",
    "print(\"tritokens feature vector:\",tri_token_length)\n",
    "print(\"\\n\")"
   ]
  },
  {
   "cell_type": "code",
   "execution_count": 193,
   "metadata": {},
   "outputs": [
    {
     "name": "stdout",
     "output_type": "stream",
     "text": [
      "sentence position: [0, 1, 2, 3, 4, 5, 6, 7, 8, 9, 10]\n",
      "\n",
      "\n",
      "Total number of sentences: 11\n",
      "\n",
      "\n",
      "Sentence position feature vector: [1, 0.9090909090909091, 0.8181818181818182, 0.7272727272727273, 0.6363636363636364, 0.5454545454545454, 0.45454545454545453, 0.36363636363636365, 0.2727272727272727, 0.18181818181818182, 1]\n",
      "\n",
      "\n"
     ]
    }
   ],
   "source": [
    "# getting Sentence Position\n",
    "# getting total sentence\n",
    "import math\n",
    "def position(l):\n",
    "    return [index for index, value in enumerate(sentences)]\n",
    "\n",
    "sent_position= (position(sentences))\n",
    "num_sent=len(sent_position)\n",
    "print(\"sentence position:\",sent_position)\n",
    "print(\"\\n\")\n",
    "print(\"Total number of sentences:\",num_sent)\n",
    "print(\"\\n\")\n",
    "\n",
    "position = []\n",
    "position_rbm = []\n",
    "sent_pos1_rbm = 1\n",
    "sent_pos1 = 100\n",
    "position.append(sent_pos1)\n",
    "position_rbm.append(sent_pos1_rbm)\n",
    "for x in range(1,num_sent-1):\n",
    "    s_p= ((num_sent-x)/num_sent)*100\n",
    "    position.append(s_p)\n",
    "    s_p_rbm = (num_sent-x)/num_sent\n",
    "    position_rbm.append(s_p_rbm)\n",
    "    \n",
    "sent_pos2 = 100\n",
    "sent_pos2_rbm = 1\n",
    "position.append(sent_pos2)\n",
    "position_rbm.append(sent_pos2_rbm)\n",
    "print(\"Sentence position feature vector:\",position_rbm)\n",
    "print(\"\\n\")"
   ]
  },
  {
   "cell_type": "code",
   "execution_count": 194,
   "metadata": {},
   "outputs": [
    {
     "name": "stdout",
     "output_type": "stream",
     "text": [
      "SentenceVectors: [[3, 7, 0, 0, 6, 1, 0, 0, 0, 0, 0, 7, 0, 2, 1, 3, 0, 20, 3, 1, 4, 0, 1, 3, 0, 1, 0, 12, 0, 0, 7, 1, 0, 0, 1, 0, 0, 6, 11, 1, 7, 6, 9], [2, 5, 0, 3, 3, 2, 0, 0, 0, 0, 0, 6, 0, 3, 1, 3, 1, 11, 3, 0, 0, 0, 1, 1, 1, 1, 0, 6, 0, 0, 5, 1, 1, 0, 1, 0, 0, 2, 8, 1, 6, 1, 13], [2, 9, 0, 2, 3, 1, 0, 0, 0, 0, 0, 10, 0, 4, 1, 3, 0, 14, 2, 0, 1, 0, 1, 0, 0, 2, 1, 9, 0, 0, 8, 1, 0, 1, 5, 1, 1, 7, 13, 1, 5, 3, 7], [3, 1, 0, 2, 2, 1, 0, 0, 0, 0, 0, 5, 0, 3, 0, 4, 0, 12, 1, 0, 3, 0, 0, 1, 1, 0, 1, 8, 0, 0, 5, 0, 0, 1, 2, 0, 0, 5, 8, 1, 6, 2, 17], [3, 4, 0, 0, 2, 2, 1, 0, 0, 0, 0, 15, 0, 8, 0, 4, 0, 22, 3, 0, 3, 0, 0, 0, 0, 5, 0, 14, 0, 0, 4, 4, 1, 0, 6, 0, 1, 10, 6, 1, 10, 3, 15], [1, 2, 0, 0, 1, 1, 0, 0, 0, 0, 0, 1, 0, 4, 1, 0, 1, 8, 0, 0, 1, 0, 1, 1, 0, 2, 0, 5, 0, 0, 3, 0, 0, 0, 0, 0, 0, 3, 6, 1, 4, 2, 7], [0, 7, 0, 0, 6, 2, 0, 0, 0, 1, 1, 9, 0, 3, 2, 4, 0, 17, 4, 0, 3, 0, 0, 1, 1, 0, 0, 10, 0, 0, 7, 0, 0, 0, 0, 0, 0, 6, 6, 1, 6, 4, 15], [2, 8, 0, 1, 2, 3, 0, 1, 2, 0, 1, 12, 1, 4, 0, 6, 0, 24, 7, 0, 5, 0, 2, 0, 1, 1, 0, 13, 1, 1, 14, 0, 2, 0, 3, 1, 0, 10, 9, 1, 14, 4, 21], [3, 7, 0, 1, 3, 1, 0, 0, 0, 0, 0, 4, 0, 1, 0, 4, 0, 13, 1, 0, 4, 1, 4, 1, 0, 0, 0, 9, 0, 0, 8, 0, 0, 0, 1, 0, 0, 6, 10, 1, 10, 3, 16], [3, 4, 0, 0, 2, 1, 0, 0, 0, 0, 0, 4, 0, 5, 0, 2, 0, 12, 3, 1, 1, 0, 2, 0, 0, 0, 0, 7, 0, 0, 7, 1, 1, 0, 2, 0, 0, 4, 8, 1, 3, 1, 11], [0, 0, 1, 0, 0, 0, 0, 0, 0, 0, 0, 1, 0, 0, 0, 1, 0, 1, 0, 0, 0, 0, 0, 0, 0, 0, 0, 1, 0, 0, 2, 0, 0, 0, 0, 0, 0, 1, 0, 0, 1, 0, 3]]\n",
      "\n",
      "\n"
     ]
    }
   ],
   "source": [
    "#  Converting all Sentences to Vectors\n",
    "\n",
    "def convertToVSM(sentences):\n",
    "    vocabulary = []\n",
    "    for sents in sentences:\n",
    "        vocabulary.extend(sents)\n",
    "    vocabulary = list(set(vocabulary))\n",
    "    vectors = []\n",
    "    for sents in sentences:\n",
    "        vector = []\n",
    "        for tokenss in vocabulary:\n",
    "            vector.append(sents.count(tokenss))\n",
    "        vectors.append(vector)\n",
    "    return vectors\n",
    "VSM=convertToVSM(sentences)\n",
    "print(\"SentenceVectors:\",VSM)\n",
    "print(\"\\n\")"
   ]
  },
  {
   "cell_type": "code",
   "execution_count": 195,
   "metadata": {},
   "outputs": [
    {
     "name": "stdout",
     "output_type": "stream",
     "text": [
      "TF vector: [9, 13, 7, 17, 15, 7, 15, 21, 16, 11, 3]\n",
      "\n",
      "\n",
      "ISF vector: [0.09090909090909091, 0.09090909090909091, 0.09090909090909091, 0.09090909090909091, 0.09090909090909091, 0.09090909090909091, 0.09090909090909091, 0.09090909090909091, 0.09090909090909091, 0.09090909090909091, 0.09090909090909091]\n",
      "\n",
      "\n",
      "TF-ISF vector: [0.513098124098124, 0.3781959809737587, 0.48611755308183885, 0.4298821548821548, 0.6797979797979798, 0.2896791039648183, 0.5799127640036731, 0.7693909137457525, 0.5196514837819186, 0.39248384465775765, 0.2232323232323232]\n",
      "\n",
      "\n",
      "Max TF-ISF: [0.7693909137457525]\n",
      "\n",
      "\n",
      "Centroid: [3, 7, 0, 1, 3, 1, 0, 0, 0, 0, 0, 4, 0, 1, 0, 4, 0, 13, 1, 0, 4, 1, 4, 1, 0, 0, 0, 9, 0, 0, 8, 0, 0, 0, 1, 0, 0, 6, 10, 1, 10, 3, 16]\n",
      "\n",
      "\n"
     ]
    }
   ],
   "source": [
    "# # TF-ISF feature and Centroid Calculation\n",
    "# calulationg TF-ISF \n",
    "# calulationg Centroid\n",
    "sentencelength=len(sentences)\n",
    "def calcMeanTF_ISF(VSM, index):\n",
    "    vocab_len = len(VSM[index])\n",
    "    sentences_len = len(VSM)\n",
    "    count = 0\n",
    "    tfisf = 0\n",
    "    for i in range(vocab_len):\n",
    "        tf = VSM[index][i]\n",
    "        if(tf>0):\n",
    "            count += 1\n",
    "            sent_freq = 0\n",
    "            for j in range(sentences_len):\n",
    "                if(VSM[j][i]>0): sent_freq += 1\n",
    "            tfisf += (tf)*(1.0/sent_freq)\n",
    "    if(count > 0):\n",
    "        mean_tfisf = tfisf/count\n",
    "    else:\n",
    "        mean_tfisf = 0\n",
    "    return tf, (1.0/sent_freq), mean_tfisf\n",
    "tfvec=[]\n",
    "isfvec=[]\n",
    "tfisfvec=[]\n",
    "tfisfvec_rbm=[]\n",
    "for i in range(sentencelength):\n",
    "    x,y,z=calcMeanTF_ISF(VSM,i)\n",
    "    tfvec.append(x)\n",
    "    isfvec.append(y)\n",
    "    tfisfvec.append(z*100)\n",
    "    tfisfvec_rbm.append(z)\n",
    "print(\"TF vector:\",tfvec)\n",
    "print(\"\\n\")\n",
    "print(\"ISF vector:\",isfvec)\n",
    "print(\"\\n\")\n",
    "tfisf1= [(int(p)*100) for p in tfisfvec]\n",
    "print(\"TF-ISF vector:\",tfisfvec_rbm)\n",
    "print(\"\\n\")\n",
    "maxtf_isf=max(tfisfvec_rbm)\n",
    "centroid=[]\n",
    "centroid.append(maxtf_isf)\n",
    "print(\"Max TF-ISF:\",centroid)\n",
    "print(\"\\n\")\n",
    "centroid=(max(VSM))\n",
    "print(\"Centroid:\",centroid)\n",
    "print(\"\\n\")"
   ]
  },
  {
   "cell_type": "code",
   "execution_count": 196,
   "metadata": {},
   "outputs": [
    {
     "name": "stdout",
     "output_type": "stream",
     "text": [
      "Cosine Similarity Vector: [0.9205543395943993, 0.9464212327047882, 0.8842655864131671, 0.9492091474963417, 0.86040055019262, 0.9247754096995074, 0.9314258661725978, 0.9522510044675752, 0.9999999999999999, 0.9373768898266555, 0.7963491117322938]\n",
      "\n",
      "\n"
     ]
    }
   ],
   "source": [
    "#  Cosine Similarity between Centroid and Sentences\n",
    "\n",
    "from numpy import dot\n",
    "from numpy.linalg import norm\n",
    "cosine_similarity=[]\n",
    "cosine_similarity_rbm=[]\n",
    "for z in range(sentencelength):\n",
    "    cos_simi = ((dot(centroid, VSM[z])/(norm(centroid)*norm(VSM[z])))*100)\n",
    "    cosine_similarity.append(cos_simi)\n",
    "    cos_simi_rbm = (dot(centroid, VSM[z])/(norm(centroid)*norm(VSM[z])))\n",
    "    cosine_similarity_rbm.append(cos_simi_rbm)\n",
    "print(\"Cosine Similarity Vector:\",cosine_similarity_rbm)\n",
    "print(\"\\n\")"
   ]
  },
  {
   "cell_type": "code",
   "execution_count": 197,
   "metadata": {},
   "outputs": [
    {
     "name": "stdout",
     "output_type": "stream",
     "text": [
      "Number of words in each sentence: [13, 9, 10, 8, 12, 6, 10, 15, 10, 8, 1]\n",
      "\n",
      "\n",
      "[86.66666666666667, 60.0, 66.66666666666666, 53.333333333333336, 80.0, 40.0, 66.66666666666666, 100.0, 66.66666666666666, 53.333333333333336, 6.666666666666667]\n",
      "Sentence length feature vector: [0.8666666666666667, 0.6, 0.6666666666666666, 0.5333333333333333, 0.8, 0.4, 0.6666666666666666, 1.0, 0.6666666666666666, 0.5333333333333333, 0.06666666666666667]\n",
      "\n",
      "\n"
     ]
    }
   ],
   "source": [
    "# Sentence length feature\n",
    "\n",
    "sent_word=[]\n",
    "for u in range(len(sentences)):\n",
    "    sent_split1=[w.lower() for w in sentences[u].split(\" \")]\n",
    "    sent_split=[w for w in sent_split1 if w not in stop_words and w not in punctuation and not w.isdigit()]\n",
    "    a=(len(sent_split))\n",
    "    sent_word.append(a)\n",
    "print(\"Number of words in each sentence:\",sent_word)\n",
    "print(\"\\n\")\n",
    "sent_leng=[]\n",
    "for x in range(len(sentences)):\n",
    "    if sent_word[x] < 3:\n",
    "        sent_leng.append(0)\n",
    "    else:\n",
    "        sent_leng.append(1)\n",
    "\n",
    "##OR BY THIS METHOD: LENGTH OF SENTENCE/ LONGEST SENTENCE\n",
    "longest_sent=max(sent_word)\n",
    "sent_length=[]\n",
    "sent_length_rbm=[]\n",
    "for x in sent_word:\n",
    "    sent_length.append((x/longest_sent)*100)\n",
    "    sent_length_rbm.append(x/longest_sent)\n",
    "print(sent_length)\n",
    "\n",
    "print(\"Sentence length feature vector:\",sent_length_rbm)\n",
    "print(\"\\n\")"
   ]
  },
  {
   "cell_type": "code",
   "execution_count": 198,
   "metadata": {},
   "outputs": [
    {
     "name": "stdout",
     "output_type": "stream",
     "text": [
      "Numeric token feature vector: [0.0, 0.0, 0.0, 0.0, 0.0, 0.0, 0.0, 0.06666666666666667, 0.0, 0.0, 0.0]\n",
      "\n",
      "\n"
     ]
    }
   ],
   "source": [
    "# Numeric token Feature\n",
    "\n",
    "import re\n",
    "num_word=[]\n",
    "numeric_token=[]\n",
    "numeric_token_rbm=[]\n",
    "for u in range(len(sentences)):\n",
    "    sent_split4=sentences[u].split(\" \")\n",
    "    e=re.findall(\"\\d+\",sentences[u])\n",
    "    noofwords=(len(e))\n",
    "    num_word.append(noofwords)\n",
    "    numeric_token.append((num_word[u]/sent_word[u])*100)\n",
    "    numeric_token_rbm.append(num_word[u]/sent_word[u])\n",
    "#print(\"Numeric word count in each sentence:\",num_word)\n",
    "#print(\"\\n\")\n",
    "print(\"Numeric token feature vector:\",numeric_token_rbm)\n",
    "print(\"\\n\")"
   ]
  },
  {
   "cell_type": "code",
   "execution_count": 199,
   "metadata": {},
   "outputs": [
    {
     "name": "stdout",
     "output_type": "stream",
     "text": [
      "[['robust summarization system', 'handle different types', 'uniform way', 'ultimate goal', 'documents', 'create'], ['summarization system based', 'sentence extraction', 'goal', 'developed', 'achieve'], ['english written corpora', 'evaluation workshops', 'automatic summarization', 'participated', 'japanese'], ['sentence extraction system', 'japanese lectures', 'also evaluated', 'performance'], ['obtained results comparable', 'top results', 'written corpora', 'speech corpus', 'obtained', 'workshops'], ['worth analyzing', 'use', 'means', 'features'], ['main methods required', 'summarization system', 'sentence extraction', 'size', 'reduce', 'one', 'document'], ['integrating several features', 'extract sentences', 'sentences', 'words', 'proposed', 'positions', 'order', 'method', 'frequencies', 'edmundson', 'article', '1969'], ['manually assigned parameter values', 'significance scores', 'integrate features', 'sentences', 'estimating'], ['machine learning methods', 'integrate features', 'hand', 'applied', 'also'], ['sentence']]\n",
      "[6, 5, 5, 4, 6, 4, 7, 12, 5, 5, 1]\n",
      "60\n",
      "Thematic word feature [0.1, 0.08333333333333333, 0.08333333333333333, 0.06666666666666667, 0.1, 0.06666666666666667, 0.11666666666666667, 0.2, 0.08333333333333333, 0.08333333333333333, 0.016666666666666666]\n",
      "\n",
      "\n"
     ]
    }
   ],
   "source": [
    "#for Rapid Automatic Keyword Extraction algorithm\n",
    "#algorithm which tries to determine key phrases in a body of text by analyzing \n",
    "#the frequency of word appearance and its co-occurance with other words in the text\n",
    "from rake_nltk import Rake\n",
    "r = Rake() \n",
    "keywords=[]\n",
    "\n",
    "for s in sentences:\n",
    "    r.extract_keywords_from_text(s)\n",
    "    key=list(r.get_ranked_phrases())\n",
    "    keywords.append(key)\n",
    "print(keywords)\n",
    "l_keywords=[]\n",
    "for s in keywords:\n",
    "    leng=len(s)\n",
    "    l_keywords.append(leng)\n",
    "print(l_keywords)\n",
    "\n",
    "total_keywords=sum(l_keywords)\n",
    "print(total_keywords)\n",
    "\n",
    "thematic_number= []\n",
    "thematic_number_rbm= []\n",
    "for x in l_keywords:\n",
    "    thematic_number.append((x/total_keywords)*100)\n",
    "    thematic_number_rbm.append(x/total_keywords)\n",
    "print(\"Thematic word feature\", thematic_number_rbm)\n",
    "print(\"\\n\")"
   ]
  },
  {
   "cell_type": "code",
   "execution_count": 200,
   "metadata": {},
   "outputs": [
    {
     "name": "stdout",
     "output_type": "stream",
     "text": [
      "[0, 0, 2, 0, 0, 0, 0, 1, 0, 0, 0]\n",
      "Pronoun feature vector [0.0, 0.0, 0.2, 0.0, 0.0, 0.0, 0.0, 0.06666666666666667, 0.0, 0.0, 0.0]\n",
      "\n",
      "\n"
     ]
    }
   ],
   "source": [
    "# noun expractor\n",
    "from nltk.tag import pos_tag\n",
    "from collections import Counter\n",
    "pncounts = []\n",
    "pncounts_rbm = []\n",
    "for sentence in sentences:\n",
    "    tagged=nltk.pos_tag(nltk.word_tokenize(str(sentence)))\n",
    "    counts = Counter(tag for word,tag in tagged if tag.startswith('NNP') or tag.startswith('NNPS'))\n",
    "    f=sum(counts.values())\n",
    "    pncounts.append(f)\n",
    "    pncounts_rbm.append(f)\n",
    "pnounscore=[(int(o) / int(p))*100 for o,p in zip(pncounts, sent_word)]\n",
    "pnounscore_rbm=[int(o) / int(p) for o,p in zip(pncounts_rbm, sent_word)]\n",
    "print(pncounts)\n",
    "print(\"Pronoun feature vector\",pnounscore_rbm)\n",
    "print(\"\\n\")"
   ]
  },
  {
   "cell_type": "code",
   "execution_count": 201,
   "metadata": {},
   "outputs": [
    {
     "name": "stdout",
     "output_type": "stream",
     "text": [
      "\n",
      "\n",
      "\n",
      "Printing Feature Matrix : \n",
      "[[ 1.         12.         11.          0.51309812  0.92055434  0.1\n",
      "   0.86666667  0.          0.        ]\n",
      " [ 0.90909091  8.          7.          0.37819598  0.94642123  0.08333333\n",
      "   0.6         0.          0.        ]\n",
      " [ 0.81818182  9.          8.          0.48611755  0.88426559  0.08333333\n",
      "   0.66666667  0.          0.2       ]\n",
      " [ 0.72727273  7.          6.          0.42988215  0.94920915  0.06666667\n",
      "   0.53333333  0.          0.        ]\n",
      " [ 0.63636364 11.         10.          0.67979798  0.86040055  0.1\n",
      "   0.8         0.          0.        ]\n",
      " [ 0.54545455  5.          4.          0.2896791   0.92477541  0.06666667\n",
      "   0.4         0.          0.        ]\n",
      " [ 0.45454545  9.          8.          0.57991276  0.93142587  0.11666667\n",
      "   0.66666667  0.          0.        ]\n",
      " [ 0.36363636 14.         13.          0.76939091  0.952251    0.2\n",
      "   1.          0.06666667  0.06666667]\n",
      " [ 0.27272727  9.          8.          0.51965148  1.          0.08333333\n",
      "   0.66666667  0.          0.        ]\n",
      " [ 0.18181818  7.          6.          0.39248384  0.93737689  0.08333333\n",
      "   0.53333333  0.          0.        ]\n",
      " [ 1.          0.          0.          0.22323232  0.79634911  0.01666667\n",
      "   0.06666667  0.          0.        ]]\n",
      "\n",
      "\n",
      "\n",
      "Printing Feature Matrix Normed : \n",
      "[[ 1.         12.         11.          0.51309812  0.92055434  0.1\n",
      "   0.86666667  0.          0.        ]\n",
      " [ 0.90909091  8.          7.          0.37819598  0.94642123  0.08333333\n",
      "   0.6         0.          0.        ]\n",
      " [ 0.81818182  9.          8.          0.48611755  0.88426559  0.08333333\n",
      "   0.66666667  0.          0.2       ]\n",
      " [ 0.72727273  7.          6.          0.42988215  0.94920915  0.06666667\n",
      "   0.53333333  0.          0.        ]\n",
      " [ 0.63636364 11.         10.          0.67979798  0.86040055  0.1\n",
      "   0.8         0.          0.        ]\n",
      " [ 0.54545455  5.          4.          0.2896791   0.92477541  0.06666667\n",
      "   0.4         0.          0.        ]\n",
      " [ 0.45454545  9.          8.          0.57991276  0.93142587  0.11666667\n",
      "   0.66666667  0.          0.        ]\n",
      " [ 0.36363636 14.         13.          0.76939091  0.952251    0.2\n",
      "   1.          0.06666667  0.06666667]\n",
      " [ 0.27272727  9.          8.          0.51965148  1.          0.08333333\n",
      "   0.66666667  0.          0.        ]\n",
      " [ 0.18181818  7.          6.          0.39248384  0.93737689  0.08333333\n",
      "   0.53333333  0.          0.        ]\n",
      " [ 1.          0.          0.          0.22323232  0.79634911  0.01666667\n",
      "   0.06666667  0.          0.        ]]\n",
      "[ 1.         12.         11.          0.51309812  0.92055434  0.1\n",
      "  0.86666667  0.          0.        ]\n",
      "[0.90909091 8.         7.         0.37819598 0.94642123 0.08333333\n",
      " 0.6        0.         0.        ]\n",
      "[0.81818182 9.         8.         0.48611755 0.88426559 0.08333333\n",
      " 0.66666667 0.         0.2       ]\n",
      "[0.72727273 7.         6.         0.42988215 0.94920915 0.06666667\n",
      " 0.53333333 0.         0.        ]\n",
      "[ 0.63636364 11.         10.          0.67979798  0.86040055  0.1\n",
      "  0.8         0.          0.        ]\n",
      "[0.54545455 5.         4.         0.2896791  0.92477541 0.06666667\n",
      " 0.4        0.         0.        ]\n",
      "[0.45454545 9.         8.         0.57991276 0.93142587 0.11666667\n",
      " 0.66666667 0.         0.        ]\n",
      "[ 0.36363636 14.         13.          0.76939091  0.952251    0.2\n",
      "  1.          0.06666667  0.06666667]\n",
      "[0.27272727 9.         8.         0.51965148 1.         0.08333333\n",
      " 0.66666667 0.         0.        ]\n",
      "[0.18181818 7.         6.         0.39248384 0.93737689 0.08333333\n",
      " 0.53333333 0.         0.        ]\n",
      "[1.         0.         0.         0.22323232 0.79634911 0.01666667\n",
      " 0.06666667 0.         0.        ]\n"
     ]
    }
   ],
   "source": [
    "\n",
    "# # feature matrix1\n",
    "\n",
    "featureMatrix = []\n",
    "featureMatrix.append(position_rbm)\n",
    "featureMatrix.append(bi_token_length)\n",
    "featureMatrix.append(tri_token_length)\n",
    "featureMatrix.append(tfisfvec_rbm)\n",
    "featureMatrix.append(cosine_similarity_rbm)\n",
    "featureMatrix.append(thematic_number_rbm)\n",
    "featureMatrix.append(sent_length_rbm)\n",
    "featureMatrix.append(numeric_token_rbm)\n",
    "featureMatrix.append(pnounscore_rbm)\n",
    "\n",
    "featureMat = np.zeros((len(sentences),9))\n",
    "for i in range(9) :\n",
    "    for j in range(len(sentences)):\n",
    "        featureMat[j][i] = featureMatrix[i][j]\n",
    "\n",
    "print(\"\\n\\n\\nPrinting Feature Matrix : \")\n",
    "print(featureMat)\n",
    "print(\"\\n\\n\\nPrinting Feature Matrix Normed : \")\n",
    "#featureMat_normed = featureMat / featureMat.max(axis=0)\n",
    "featureMat_normed = featureMat\n",
    "\n",
    "print(featureMat_normed)\n",
    "for i in range(len(sentences)):\n",
    "    print(featureMat_normed[i])\n",
    "#np.save('output_labels_10.npy',featureMat_normed)"
   ]
  },
  {
   "cell_type": "code",
   "execution_count": 202,
   "metadata": {},
   "outputs": [
    {
     "name": "stdout",
     "output_type": "stream",
     "text": [
      "Fuzzy logic summary \n",
      "\n",
      " ['\\nOur ultimate goal is to create a robust summarization system that can handle different types of documents in a uniform way.', 'To achieve this goal, we\\nhave developed a summarization system based on\\nsentence extraction.', 'We have participated in evaluation workshops on automatic summarization for\\nboth Japanese and English written corpora.', 'At both workshops we obtained some of the top results, and for\\nthe speech corpus we obtained results comparable\\nwith those for the written corpora.', 'Sentence extraction is one of the main methods\\nrequired for a summarization system to reduce the\\nsize of a document.', 'Edmundson (1969) proposed a\\nmethod of integrating several features, such as the\\npositions of sentences and the frequencies of words\\nin an article, in order to extract sentences.', 'He manually assigned parameter values to integrate features\\nfor estimating the significance scores of sentences.', 'On the other hand, machine learning methods can\\nalso be applied to integrate features.', 'For sentence']\n",
      "9\n",
      "[[['To achieve this goal, we\\nhave developed a summarization system based on\\nsentence extraction.'\n",
      "   1]]\n",
      "\n",
      " [['We have participated in evaluation workshops on automatic summarization for\\nboth Japanese and English written corpora.'\n",
      "   2]]\n",
      "\n",
      " [['At both workshops we obtained some of the top results, and for\\nthe speech corpus we obtained results comparable\\nwith those for the written corpora.'\n",
      "   4]]\n",
      "\n",
      " [['Sentence extraction is one of the main methods\\nrequired for a summarization system to reduce the\\nsize of a document.'\n",
      "   6]]\n",
      "\n",
      " [['Edmundson (1969) proposed a\\nmethod of integrating several features, such as the\\npositions of sentences and the frequencies of words\\nin an article, in order to extract sentences.'\n",
      "   7]]\n",
      "\n",
      " [['He manually assigned parameter values to integrate features\\nfor estimating the significance scores of sentences.'\n",
      "   8]]\n",
      "\n",
      " [['On the other hand, machine learning methods can\\nalso be applied to integrate features.'\n",
      "   9]]\n",
      "\n",
      " [['For sentence' 10]]]\n"
     ]
    },
    {
     "data": {
      "image/png": "[encoded data removed]",
      "text/plain": [
       "<Figure size 432x288 with 1 Axes>"
      ]
     },
     "metadata": {
      "needs_background": "light"
     },
     "output_type": "display_data"
    }
   ],
   "source": [
    "import numpy as np\n",
    "import matplotlib\n",
    "%matplotlib inline\n",
    "import skfuzzy as fuzz\n",
    "from skfuzzy import control as ctrl\n",
    "\n",
    "# objects hold universe variables and membership\n",
    "# functions\n",
    "position1 = ctrl.Antecedent(np.arange(0, 100, 10), 'position1')\n",
    "cos_similarity = ctrl.Antecedent(np.arange(0, 100, 10), 'cos_similarity')\n",
    "bitokens = ctrl.Antecedent(np.arange(0, 100, 10), 'bitokens')\n",
    "tritokens = ctrl.Antecedent(np.arange(0, 100, 10), 'tritokens')\n",
    "propernoun = ctrl.Antecedent(np.arange(0, 100, 10), 'propernoun')\n",
    "sentencelength = ctrl.Antecedent(np.arange(0, 100, 10), 'sentencelength')\n",
    "numtokens = ctrl.Antecedent(np.arange(0, 100, 10), 'numtokens')\n",
    "keywords = ctrl.Antecedent(np.arange(0, 10, 1), 'keywords')\n",
    "tf_isf = ctrl.Antecedent(np.arange(0, 100, 10), 'tf_isf')\n",
    "\n",
    "\n",
    "senten = ctrl.Consequent(np.arange(0, 100, 10), 'senten')\n",
    "\n",
    "position1.automf(3)\n",
    "cos_similarity.automf(3)\n",
    "bitokens.automf(3)\n",
    "tritokens.automf(3)\n",
    "propernoun.automf(3)\n",
    "sentencelength.automf(3)\n",
    "numtokens.automf(3)\n",
    "keywords.automf(3)\n",
    "tf_isf.automf(3)\n",
    "\n",
    "\n",
    "senten['bad'] = fuzz.trimf(senten.universe, [0, 0, 50])\n",
    "senten['avg'] = fuzz.trimf(senten.universe, [0, 50, 100])\n",
    "senten['good'] = fuzz.trimf(senten.universe, [50, 100, 100])\n",
    "\n",
    "rule1 = ctrl.Rule(position1['good'] & sentencelength['good'] & propernoun['good'] &numtokens['good'], senten['good'])\n",
    "rule2 = ctrl.Rule(position1['poor'] & sentencelength['poor'] & numtokens['poor'], senten['bad'])\n",
    "rule3 = ctrl.Rule(propernoun['poor'] & keywords['average'], senten['bad'])\n",
    "rule4 = ctrl.Rule(cos_similarity['good'], senten['good'])\n",
    "rule5 = ctrl.Rule(bitokens['good'] & tritokens['good'] & numtokens['average'] | tf_isf['average'], senten['avg'])\n",
    "\n",
    "\n",
    "sent_ctrl = ctrl.ControlSystem([rule1,rule2,rule3,rule4,rule5])\n",
    "Sent = ctrl.ControlSystemSimulation(sent_ctrl)\n",
    "fuzzemptyarr= np.empty((20,1,2), dtype=object)\n",
    "t2=0\n",
    "summary2=[]\n",
    "for s in range(len(sentences)):\n",
    "    Sent.input['position1'] = int(position[s])\n",
    "    Sent.input['cos_similarity'] = int(cosine_similarity[s])\n",
    "    Sent.input['bitokens'] = int(bi_tokens[s])\n",
    "    Sent.input['tritokens'] = int(tri_tokens[s])\n",
    "    Sent.input['tf_isf'] = int(tfisfvec[s])\n",
    "    Sent.input['keywords'] = int(thematic_number[s])\n",
    "    Sent.input['propernoun'] = int(pnounscore[s])\n",
    "    Sent.input['sentencelength'] = int(sent_length[s])\n",
    "    Sent.input['numtokens'] = int(numeric_token[s])\n",
    "#Sent.input['service'] = 2\n",
    "    Sent.compute()\n",
    "    if Sent.output['senten'] > 50:\n",
    "        summary2.append((sentences[s]))\n",
    "        fuzzemptyarr[t2][0][0] = sentences[s]\n",
    "        fuzzemptyarr[t2][0][1] = s\n",
    "        t2+=1\n",
    "fuzzarray = np.empty((len(summary2),1,2),dtype=object)\n",
    "for i in range(len(summary2)):\n",
    "    fuzzarray[i][0][0] = fuzzemptyarr[i][0][0]\n",
    "    fuzzarray[i][0][1] = fuzzemptyarr[i][0][1]\n",
    "    \n",
    "fuzzarray=fuzzarray[1:]\n",
    "print(\"Fuzzy logic summary \\n\\n\",summary2)\n",
    "print(len(summary2))\n",
    "print(fuzzarray)\n",
    "senten.view(sim=Sent)"
   ]
  },
  {
   "cell_type": "code",
   "execution_count": 245,
   "metadata": {},
   "outputs": [
    {
     "name": "stdout",
     "output_type": "stream",
     "text": [
      "Collecting en_core_web_sm==2.1.0\n",
      "  Downloading https://github.com/explosion/spacy-models/releases/download/en_core_web_sm-2.1.0/en_core_web_sm-2.1.0.tar.gz (11.1 MB)\n",
      "Building wheels for collected packages: en-core-web-sm\n",
      "  Building wheel for en-core-web-sm (setup.py): started\n",
      "  Building wheel for en-core-web-sm (setup.py): finished with status 'done'\n",
      "  Created wheel for en-core-web-sm: filename=en_core_web_sm-2.1.0-py3-none-any.whl size=11074438 sha256=2da0309cc44d10b6948c1e902ecb4f67e48d2f23bb11a8f8bf0907aff02043db\n",
      "  Stored in directory: C:\\Users\\jones_wp60lum\\AppData\\Local\\Temp\\pip-ephem-wheel-cache-ww16c110\\wheels\\59\\4f\\8c\\0dbaab09a776d1fa3740e9465078bfd903cc22f3985382b496\n",
      "Successfully built en-core-web-sm\n",
      "Installing collected packages: en-core-web-sm\n",
      "Successfully installed en-core-web-sm-2.1.0\n",
      "[+] Download and installation successful\n",
      "You can now load the model via spacy.load('en_core_web_sm')\n",
      "[x] Couldn't link model to 'en'\n",
      "Creating a symlink in spacy/data failed. Make sure you have the required\n",
      "permissions and try re-running the command as admin, or use a virtualenv. You\n",
      "can still import the model as a module and call its load() method, or create the\n",
      "symlink manually.\n",
      "C:\\ProgramData\\Anaconda3\\lib\\site-packages\\en_core_web_sm -->\n",
      "C:\\ProgramData\\Anaconda3\\lib\\site-packages\\spacy\\data\\en\n",
      "[!] Download successful but linking failed\n",
      "Creating a shortcut link for 'en' didn't work (maybe you don't have admin\n",
      "permissions?), but you can still load the model via its full package name: nlp =\n",
      "spacy.load('en_core_web_sm')\n"
     ]
    },
    {
     "name": "stderr",
     "output_type": "stream",
     "text": [
      "You do not have sufficient privilege to perform this operation.\n"
     ]
    }
   ],
   "source": [
    "!python -m spacy download en"
   ]
  },
  {
   "cell_type": "code",
   "execution_count": 246,
   "metadata": {},
   "outputs": [
    {
     "name": "stdout",
     "output_type": "stream",
     "text": [
      "Requirement already satisfied: sumeval in c:\\programdata\\anaconda3\\lib\\site-packages (0.2.2)\n",
      "Requirement already satisfied: plac>=0.9.6 in c:\\programdata\\anaconda3\\lib\\site-packages (from sumeval) (0.9.6)\n",
      "Requirement already satisfied: sacrebleu>=1.3.2 in c:\\programdata\\anaconda3\\lib\\site-packages (from sumeval) (1.4.10)\n",
      "Requirement already satisfied: portalocker in c:\\programdata\\anaconda3\\lib\\site-packages (from sacrebleu>=1.3.2->sumeval) (1.7.0)\n",
      "Requirement already satisfied: pywin32!=226; platform_system == \"Windows\" in c:\\programdata\\anaconda3\\lib\\site-packages (from portalocker->sacrebleu>=1.3.2->sumeval) (223)\n"
     ]
    }
   ],
   "source": [
    "!pip install sumeval"
   ]
  },
  {
   "cell_type": "code",
   "execution_count": 248,
   "metadata": {},
   "outputs": [
    {
     "ename": "ModuleNotFoundError",
     "evalue": "No module named 'sumevaL'",
     "output_type": "error",
     "traceback": [
      "\u001b[1;31m---------------------------------------------------------------------------\u001b[0m",
      "\u001b[1;31mModuleNotFoundError\u001b[0m                       Traceback (most recent call last)",
      "\u001b[1;32m<ipython-input-248-27574aa43b50>\u001b[0m in \u001b[0;36m<module>\u001b[1;34m\u001b[0m\n\u001b[0;32m      1\u001b[0m \u001b[1;31m# to perform the evaluation of the summarization\u001b[0m\u001b[1;33m\u001b[0m\u001b[1;33m\u001b[0m\u001b[1;33m\u001b[0m\u001b[0m\n\u001b[1;32m----> 2\u001b[1;33m \u001b[1;32mfrom\u001b[0m \u001b[0msumevaL\u001b[0m \u001b[1;32mimport\u001b[0m \u001b[0mRougeCalculator\u001b[0m\u001b[1;33m\u001b[0m\u001b[1;33m\u001b[0m\u001b[0m\n\u001b[0m\u001b[0;32m      3\u001b[0m \u001b[1;32mfrom\u001b[0m \u001b[0msumeval\u001b[0m \u001b[1;32mimport\u001b[0m \u001b[0mBLEUCalculator\u001b[0m\u001b[1;33m\u001b[0m\u001b[1;33m\u001b[0m\u001b[0m\n",
      "\u001b[1;31mModuleNotFoundError\u001b[0m: No module named 'sumevaL'"
     ]
    }
   ],
   "source": [
    "# to perform the evaluation of the summarization\n",
    "from sumevaL import RougeCalculator\n",
    "from sumeval import BLEUCalculator"
   ]
  },
  {
   "cell_type": "code",
   "execution_count": null,
   "metadata": {},
   "outputs": [],
   "source": [
    "\n",
    "def eval_rouges(sentences,fuzzarray):\n",
    "    rouge = RougeCalculator(stopwords=True, lang=\"en\")\n",
    "\n",
    "    rouge_1 = rouge.rouge_n(\n",
    "                summary=fuzzarray,\n",
    "                references=sentences,\n",
    "                n=1)\n",
    "\n",
    "    rouge_2 = rouge.rouge_n(\n",
    "                summary=fuzzarray,\n",
    "                references=[sentences],\n",
    "                n=2)\n",
    "    \n",
    "    rouge_l = rouge.rouge_l(\n",
    "                summary=fuzzarray,\n",
    "                references=[sentences])\n",
    "    \n",
    "    # You need spaCy to calculate ROUGE-BE\n",
    "    \n",
    "    rouge_be = rouge.rouge_be(\n",
    "                summary=fuzzarray,\n",
    "                references=[sentences])\n",
    "\n",
    "    bleu = BLEUCalculator()\n",
    "    bleu_score = bleu.bleu( summary=fuzzarray,\n",
    "                        references=[sentences])\n",
    "    \n",
    "    return rouge_1, rouge_2,rouge_l,rouge_be,bleu_score"
   ]
  },
  {
   "cell_type": "code",
   "execution_count": null,
   "metadata": {},
   "outputs": [],
   "source": []
  },
  {
   "cell_type": "code",
   "execution_count": null,
   "metadata": {},
   "outputs": [],
   "source": []
  },
  {
   "cell_type": "code",
   "execution_count": null,
   "metadata": {},
   "outputs": [],
   "source": []
  },
  {
   "cell_type": "code",
   "execution_count": null,
   "metadata": {},
   "outputs": [],
   "source": []
  },
  {
   "cell_type": "code",
   "execution_count": null,
   "metadata": {},
   "outputs": [],
   "source": []
  },
  {
   "cell_type": "code",
   "execution_count": null,
   "metadata": {},
   "outputs": [],
   "source": []
  }
 ],
 "metadata": {
  "kernelspec": {
   "display_name": "Python 3",
   "language": "python",
   "name": "python3"
  },
  "language_info": {
   "codemirror_mode": {
    "name": "ipython",
    "version": 3
   },
   "file_extension": ".py",
   "mimetype": "text/x-python",
   "name": "python",
   "nbconvert_exporter": "python",
   "pygments_lexer": "ipython3",
   "version": "3.7.4"
  }
 },
 "nbformat": 4,
 "nbformat_minor": 2
}
